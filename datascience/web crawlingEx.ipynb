{
 "cells": [
  {
   "cell_type": "code",
   "execution_count": null,
   "id": "6c5cbdcf",
   "metadata": {},
   "outputs": [],
   "source": [
    "!pip install selenium"
   ]
  },
  {
   "cell_type": "code",
   "execution_count": 3,
   "id": "e2484c41",
   "metadata": {},
   "outputs": [],
   "source": [
    "from selenium import webdriver"
   ]
  },
  {
   "cell_type": "code",
   "execution_count": null,
   "id": "231316a8",
   "metadata": {},
   "outputs": [],
   "source": [
    "driver = webdriver.Chrome('/Users/jeonga/Documents/playdata/chromedriver.exe')\n",
    "url = 'https://www.naver.com'\n",
    "driver.get(url)\n",
    "html = driver.page_source\n",
    "html"
   ]
  },
  {
   "cell_type": "code",
   "execution_count": null,
   "id": "386c47af",
   "metadata": {},
   "outputs": [],
   "source": []
  },
  {
   "cell_type": "code",
   "execution_count": 29,
   "id": "7fa960a7",
   "metadata": {},
   "outputs": [],
   "source": [
    "#Melon으로 연습해보기"
   ]
  },
  {
   "cell_type": "code",
   "execution_count": null,
   "id": "de914413",
   "metadata": {},
   "outputs": [],
   "source": [
    "#selenium + BeautifulSoup을 활용한 크롤링"
   ]
  },
  {
   "cell_type": "code",
   "execution_count": 7,
   "id": "ad91634b",
   "metadata": {},
   "outputs": [
    {
     "name": "stderr",
     "output_type": "stream",
     "text": [
      "/var/folders/dl/scvjzdn166d4b4ty875lj28w0000gn/T/ipykernel_22819/2590400989.py:1: DeprecationWarning: executable_path has been deprecated, please pass in a Service object\n",
      "  driver = webdriver.Chrome('/Users/jeonga/Documents/playdata/chromedriver.exe')\n"
     ]
    }
   ],
   "source": [
    "driver = webdriver.Chrome('/Users/jeonga/Documents/playdata/chromedriver.exe')\n",
    "url = 'https://www.melon.com/chart/day/index.htm'\n",
    "driver.get(url)"
   ]
  },
  {
   "cell_type": "code",
   "execution_count": 9,
   "id": "774d24a7",
   "metadata": {},
   "outputs": [],
   "source": [
    "from bs4 import BeautifulSoup\n",
    "html = driver.page_source\n",
    "soup = BeautifulSoup(html, 'html.parser')"
   ]
  },
  {
   "cell_type": "code",
   "execution_count": 11,
   "id": "cf21978a",
   "metadata": {},
   "outputs": [
    {
     "data": {
      "text/plain": [
       "<tr class=\"lst50\" data-song-no=\"36318125\" id=\"lst50\">\n",
       "<td><div class=\"wrap t_right\"><input class=\"input_check\" name=\"input_check\" title=\"Kitsch 곡 선택\" type=\"checkbox\" value=\"36318125\"/></div></td>\n",
       "<td><div class=\"wrap t_center\"><span class=\"rank\">1</span><span class=\"none\">위</span></div></td>\n",
       "<!-- 차트순위 추가 -->\n",
       "<td><div class=\"wrap\">\n",
       "<span class=\"rank_wrap\" title=\"순위 동일\">\n",
       "<span class=\"bullet_icons rank_static\"><span class=\"none\">순위 동일</span></span>\n",
       "<span class=\"none\">0</span>\n",
       "</span>\n",
       "</div></td>\n",
       "<td><div class=\"wrap\">\n",
       "<a class=\"image_typeAll\" href=\"javascript:melon.link.goAlbumDetail('11211297');\" title=\"Kitsch\">\n",
       "<img alt=\"Kitsch - 페이지 이동\" height=\"60\" onerror=\"WEBPOCIMG.defaultAlbumImg(this);\" src=\"https://cdnimg.melon.co.kr/cm2/album/images/112/11/297/11211297_20230327114349_500.jpg/melon/resize/120/quality/80/optimize\" width=\"60\"/>\n",
       "<span class=\"bg_album_frame\"></span>\n",
       "</a>\n",
       "</div></td>\n",
       "<td><div class=\"wrap\">\n",
       "<a class=\"btn button_icons type03 song_info\" href=\"javascript:melon.link.goSongDetail('36318125');\" title=\"Kitsch 곡정보\"><span class=\"none\">곡정보</span></a>\n",
       "</div></td>\n",
       "<td><div class=\"wrap\">\n",
       "<div class=\"wrap_song_info\">\n",
       "<div class=\"ellipsis rank01\"><span>\n",
       "<a href=\"javascript:melon.play.playSong('19041201',36318125);\" title=\"Kitsch 재생\">Kitsch</a>\n",
       "</span></div><br/>\n",
       "<div class=\"ellipsis rank02\">\n",
       "<a href=\"javascript:melon.link.goArtistDetail('3055146');\" title=\"IVE (아이브) - 페이지 이동\">IVE (아이브)</a><span class=\"checkEllipsis\" style=\"display: none;\"><a href=\"javascript:melon.link.goArtistDetail('3055146');\" title=\"IVE (아이브) - 페이지 이동\">IVE (아이브)</a></span>\n",
       "</div>\n",
       "</div>\n",
       "</div></td>\n",
       "<td><div class=\"wrap\">\n",
       "<div class=\"wrap_song_info\">\n",
       "<div class=\"ellipsis rank03\">\n",
       "<a href=\"javascript:melon.link.goAlbumDetail('11211297');\" title=\"Kitsch - 페이지 이동\">Kitsch</a>\n",
       "</div>\n",
       "</div>\n",
       "</div></td>\n",
       "<td><div class=\"wrap\">\n",
       "<button class=\"button_etc like\" data-song-menuid=\"19041201\" data-song-no=\"36318125\" title=\"Kitsch 좋아요\" type=\"button\"><span class=\"odd_span\">좋아요</span>\n",
       "<span class=\"cnt\">\n",
       "<span class=\"none\">총건수</span>\n",
       "57,269</span></button>\n",
       "</div></td>\n",
       "<td><div class=\"wrap t_center\">\n",
       "<button class=\"button_icons play\" onclick=\"melon.play.playSong('19041201',36318125);\" title=\"듣기\" type=\"button\"><span class=\"none\">듣기</span></button>\n",
       "</div></td>\n",
       "<td><div class=\"wrap t_center\">\n",
       "<button class=\"button_icons scrap\" onclick=\"melon.play.addPlayList('36318125');\" title=\"담기\" type=\"button\"><span class=\"none\">담기</span></button>\n",
       "</div></td>\n",
       "<td><div class=\"wrap t_center\">\n",
       "<button class=\"button_icons download\" onclick=\"melon.buy.goBuyProduct('frm', '36318125', '3C0001', '','0', '19041201');\" title=\"다운로드\" type=\"button\"><span class=\"none\">다운로드</span></button>\n",
       "</div></td>\n",
       "<td><div class=\"wrap t_center\">\n",
       "<button class=\"button_icons video\" onclick=\"melon.link.goMvDetail('19041201', '36318125','song');\" title=\"뮤직비디오\" type=\"button\"><span class=\"none\">뮤직비디오</span></button>\n",
       "</div></td>\n",
       "</tr>"
      ]
     },
     "execution_count": 11,
     "metadata": {},
     "output_type": "execute_result"
    }
   ],
   "source": [
    "#멜론차트50위까지 끌어옴\n",
    "songs = soup.select('#lst50')\n",
    "#print(len(songs))\n",
    "songs[0]"
   ]
  },
  {
   "cell_type": "code",
   "execution_count": 14,
   "id": "4b8ef8fb",
   "metadata": {},
   "outputs": [
    {
     "data": {
      "text/plain": [
       "'Kitsch'"
      ]
     },
     "execution_count": 14,
     "metadata": {},
     "output_type": "execute_result"
    }
   ],
   "source": [
    "title = soup.select('div.ellipsis.rank01 > span > a')[0].text\n",
    "title"
   ]
  },
  {
   "cell_type": "code",
   "execution_count": 15,
   "id": "8a5445bd",
   "metadata": {},
   "outputs": [
    {
     "data": {
      "text/plain": [
       "'IVE (아이브)'"
      ]
     },
     "execution_count": 15,
     "metadata": {},
     "output_type": "execute_result"
    }
   ],
   "source": [
    "singer = soup.select('div.ellipsis.rank02 > a')[0].text\n",
    "singer"
   ]
  },
  {
   "cell_type": "code",
   "execution_count": 19,
   "id": "03ae69d6",
   "metadata": {},
   "outputs": [
    {
     "name": "stdout",
     "output_type": "stream",
     "text": [
      "Kitsch | IVE (아이브)\n",
      "Ditto | NewJeans\n",
      "Hype boy | NewJeans\n",
      "OMG | NewJeans\n",
      "꽃 | 지수 (JISOO)\n",
      "Nostalgia | 우디 (Woody)\n",
      "Teddy Bear | STAYC(스테이씨)\n",
      "사건의 지평선 | 윤하 (YOUNHA)\n",
      "I Don't Think That I Like Her | Charlie Puth\n",
      "CHRISTIAN | Zior Park\n",
      "파이팅 해야지 (Feat. 이영지) | 부석순 (SEVENTEEN)\n",
      "심(心) | DK(디셈버)\n",
      "Attention | NewJeans\n",
      "After LIKE | IVE (아이브)\n",
      "사랑하기 싫어 | 지아\n",
      "ANTIFRAGILE | LE SSERAFIM (르세라핌)\n",
      "밤이 무서워요 (Lonely Night) | 주주 시크릿\n",
      "Love Me Like This | NMIXX\n",
      "LOVE DIVE | IVE (아이브)\n",
      "사랑인가 봐 | 멜로망스\n",
      "벚꽃 엔딩 | 버스커 버스커\n",
      "NIGHT DANCER | imase\n",
      "Like Crazy | 지민\n",
      "나비무덤 | 포맨 (4MEN)\n",
      "너를 보는게 지친 하루에 | 송하예\n",
      "Dangerously | Charlie Puth\n",
      "봄 사랑 벚꽃 말고 | HIGH4 (하이포)\n",
      "사랑은 늘 도망가 | 임영웅\n",
      "결국엔 너에게 닿아서 | WSG워너비 (가야G)\n",
      "Candy | NCT DREAM\n",
      "건물 사이에 피어난 장미 (Rose Blossom) | H1-KEY (하이키)\n",
      "VIBE (feat. Jimin of BTS) | 태양\n",
      "너의 모든 순간 | 성시경\n",
      "Nxde | (여자)아이들\n",
      "Expectations | Anne-Marie\n",
      "Say I Love You | 우디 (Woody)\n",
      "Monologue | 테이\n",
      "That's Hilarious | Charlie Puth\n",
      "새삥 (Prod. ZICO) (Feat. 호미들) | 지코 (ZICO)\n",
      "해요 (2022) | #안녕\n",
      "Cookie | NewJeans\n",
      "우연히 봄 | 로꼬\n",
      "취중고백 | 김민석 (멜로망스)\n",
      "on the street (with J. Cole) | j-hope\n",
      "STAY | The Kid LAROI\n",
      "그라데이션 | 10CM\n",
      "Shut Down | BLACKPINK\n",
      "내가 아니라도 | 주호\n",
      "TOMBOY | (여자)아이들\n",
      "정이라고 하자 (Feat. 10CM) | BIG Naughty (서동현)\n"
     ]
    }
   ],
   "source": [
    "for song in songs:\n",
    "    title = song.select('div.ellipsis.rank01 > span > a')[0].text\n",
    "    singer = song.select('div.ellipsis.rank02 > a')[0].text\n",
    "    print(title, singer, sep = ' | ')"
   ]
  },
  {
   "cell_type": "code",
   "execution_count": null,
   "id": "55759650",
   "metadata": {},
   "outputs": [],
   "source": [
    "#selenimu을 활용한 크롤링"
   ]
  },
  {
   "cell_type": "code",
   "execution_count": 28,
   "id": "74a95c08",
   "metadata": {},
   "outputs": [
    {
     "name": "stderr",
     "output_type": "stream",
     "text": [
      "/var/folders/dl/scvjzdn166d4b4ty875lj28w0000gn/T/ipykernel_22819/1343836166.py:5: DeprecationWarning: executable_path has been deprecated, please pass in a Service object\n",
      "  driver = webdriver.Chrome('/Users/jeonga/Documents/playdata/chromedriver.exe')\n"
     ]
    },
    {
     "name": "stdout",
     "output_type": "stream",
     "text": [
      "Kitsch | IVE (아이브)\n",
      "Ditto | NewJeans\n",
      "Hype boy | NewJeans\n",
      "OMG | NewJeans\n",
      "꽃 | 지수 (JISOO)\n",
      "Nostalgia | 우디 (Woody)\n",
      "Teddy Bear | STAYC(스테이씨)\n",
      "사건의 지평선 | 윤하 (YOUNHA)\n",
      "I Don't Think That I Like Her | Charlie Puth\n",
      "CHRISTIAN | Zior Park\n",
      "파이팅 해야지 (Feat. 이영지) | 부석순 (SEVENTEEN)\n",
      "심(心) | DK(디셈버)\n",
      "Attention | NewJeans\n",
      "After LIKE | IVE (아이브)\n",
      "사랑하기 싫어 | 지아\n",
      "ANTIFRAGILE | LE SSERAFIM (르세라핌)\n",
      "밤이 무서워요 (Lonely Night) | 주주 시크릿\n",
      "Love Me Like This | NMIXX\n",
      "LOVE DIVE | IVE (아이브)\n",
      "사랑인가 봐 | 멜로망스\n",
      "벚꽃 엔딩 | 버스커 버스커\n",
      "NIGHT DANCER | imase\n",
      "Like Crazy | 지민\n",
      "나비무덤 | 포맨 (4MEN)\n",
      "너를 보는게 지친 하루에 | 송하예\n",
      "Dangerously | Charlie Puth\n",
      "봄 사랑 벚꽃 말고 | HIGH4 (하이포)\n",
      "사랑은 늘 도망가 | 임영웅\n",
      "결국엔 너에게 닿아서 | WSG워너비 (가야G)\n",
      "Candy | NCT DREAM\n",
      "건물 사이에 피어난 장미 (Rose Blossom) | H1-KEY (하이키)\n",
      "VIBE (feat. Jimin of BTS) | 태양\n",
      "너의 모든 순간 | 성시경\n",
      "Nxde | (여자)아이들\n",
      "Expectations | Anne-Marie\n",
      "Say I Love You | 우디 (Woody)\n",
      "Monologue | 테이\n",
      "That's Hilarious | Charlie Puth\n",
      "새삥 (Prod. ZICO) (Feat. 호미들) | 지코 (ZICO)\n",
      "해요 (2022) | #안녕\n",
      "Cookie | NewJeans\n",
      "우연히 봄 | 로꼬\n",
      "취중고백 | 김민석 (멜로망스)\n",
      "on the street (with J. Cole) | j-hope\n",
      "STAY | The Kid LAROI\n",
      "그라데이션 | 10CM\n",
      "Shut Down | BLACKPINK\n",
      "내가 아니라도 | 주호\n",
      "TOMBOY | (여자)아이들\n",
      "정이라고 하자 (Feat. 10CM) | BIG Naughty (서동현)\n"
     ]
    }
   ],
   "source": [
    "from selenium.webdriver.common.by import By\n",
    "\n",
    "driver = webdriver.Chrome('/Users/jeonga/Documents/playdata/chromedriver.exe')\n",
    "url = 'https://www.melon.com/chart/day/index.htm'\n",
    "driver.get(url)\n",
    "\n",
    "songs = driver.find_elements(By.CSS_SELECTOR, '#lst50')\n",
    "for song in songs:\n",
    "    title = song.find_elements(By.CSS_SELECTOR, 'div.ellipsis.rank01 > span > a')[0].text\n",
    "    singer = song.find_elements(By.CSS_SELECTOR, 'div.ellipsis.rank02 > a')[0].text\n",
    "    print(title, singer, sep = ' | ')"
   ]
  }
 ],
 "metadata": {
  "kernelspec": {
   "display_name": "Python 3 (ipykernel)",
   "language": "python",
   "name": "python3"
  },
  "language_info": {
   "codemirror_mode": {
    "name": "ipython",
    "version": 3
   },
   "file_extension": ".py",
   "mimetype": "text/x-python",
   "name": "python",
   "nbconvert_exporter": "python",
   "pygments_lexer": "ipython3",
   "version": "3.8.16"
  }
 },
 "nbformat": 4,
 "nbformat_minor": 5
}
