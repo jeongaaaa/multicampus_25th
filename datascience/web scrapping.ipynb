{
 "cells": [
  {
   "cell_type": "code",
   "execution_count": null,
   "id": "63197e99",
   "metadata": {},
   "outputs": [],
   "source": [
    "import urllib.request"
   ]
  },
  {
   "cell_type": "code",
   "execution_count": null,
   "id": "dfacb4fb",
   "metadata": {},
   "outputs": [],
   "source": [
    "#정규표현식 모듈\n",
    "import re"
   ]
  },
  {
   "cell_type": "code",
   "execution_count": null,
   "id": "764f1875",
   "metadata": {},
   "outputs": [],
   "source": [
    "url = 'https://finance.naver.com/item/main.nhn?code=005930'"
   ]
  },
  {
   "cell_type": "code",
   "execution_count": null,
   "id": "ce83f079",
   "metadata": {},
   "outputs": [],
   "source": [
    "html = urllib.request.urlopen(url)\n",
    "html_contents = str(html.read().decode(\"ms949\"))"
   ]
  },
  {
   "cell_type": "code",
   "execution_count": null,
   "id": "99580502",
   "metadata": {},
   "outputs": [],
   "source": [
    "html_contents"
   ]
  },
  {
   "cell_type": "code",
   "execution_count": null,
   "id": "8a3a61d1",
   "metadata": {},
   "outputs": [],
   "source": [
    "stock_results = re.findall(\"(\\<dl class=\\\"blind\\\"\\>)([\\s\\S]+?)(\\<\\/dl\\>)\", html_contents)"
   ]
  },
  {
   "cell_type": "code",
   "execution_count": null,
   "id": "451c9f9b",
   "metadata": {},
   "outputs": [],
   "source": [
    "stock_results"
   ]
  },
  {
   "cell_type": "code",
   "execution_count": null,
   "id": "d9eb0f67",
   "metadata": {},
   "outputs": [],
   "source": [
    "samsung_stock = stock_results[0]\n",
    "samsung_stock"
   ]
  },
  {
   "cell_type": "code",
   "execution_count": null,
   "id": "401fb337",
   "metadata": {},
   "outputs": [],
   "source": [
    "samsung_index = samsung_stock[1]\n",
    "samsung_index"
   ]
  },
  {
   "cell_type": "code",
   "execution_count": null,
   "id": "577f2878",
   "metadata": {},
   "outputs": [],
   "source": [
    "index_list = re.findall(\"(\\<dd\\>)([\\s\\S]+?)(\\</dd\\>)\", samsung_index)\n",
    "index_list"
   ]
  },
  {
   "cell_type": "code",
   "execution_count": null,
   "id": "0adcf956",
   "metadata": {},
   "outputs": [],
   "source": [
    "for index in index_list:\n",
    "    print(index[1])"
   ]
  }
 ],
 "metadata": {
  "kernelspec": {
   "display_name": "Python 3 (ipykernel)",
   "language": "python",
   "name": "python3"
  },
  "language_info": {
   "codemirror_mode": {
    "name": "ipython",
    "version": 3
   },
   "file_extension": ".py",
   "mimetype": "text/x-python",
   "name": "python",
   "nbconvert_exporter": "python",
   "pygments_lexer": "ipython3",
   "version": "3.8.16"
  }
 },
 "nbformat": 4,
 "nbformat_minor": 5
}
