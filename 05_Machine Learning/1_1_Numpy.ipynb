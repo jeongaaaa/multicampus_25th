{
  "nbformat": 4,
  "nbformat_minor": 0,
  "metadata": {
    "colab": {
      "provenance": [],
      "authorship_tag": "ABX9TyPc5lScBJ9/+ezzsCXNn4fz",
      "include_colab_link": true
    },
    "kernelspec": {
      "name": "python3",
      "display_name": "Python 3"
    },
    "language_info": {
      "name": "python"
    }
  },
  "cells": [
    {
      "cell_type": "markdown",
      "metadata": {
        "id": "view-in-github",
        "colab_type": "text"
      },
      "source": [
        "<a href=\"https://colab.research.google.com/github/jeongaaaa/multicampus_25th/blob/master/05_Machine%20Learning/1_1_Numpy.ipynb\" target=\"_parent\"><img src=\"https://colab.research.google.com/assets/colab-badge.svg\" alt=\"Open In Colab\"/></a>"
      ]
    },
    {
      "cell_type": "code",
      "execution_count": 1,
      "metadata": {
        "id": "mhj8FK5xS_Dl"
      },
      "outputs": [],
      "source": [
        "import numpy as np"
      ]
    },
    {
      "cell_type": "code",
      "source": [
        "array1 = np.array([1, 2, 3])\n",
        "\n",
        "print('array1 type:', type(array1))\n",
        "print('array1 array 형태:', array1.shape)"
      ],
      "metadata": {
        "colab": {
          "base_uri": "https://localhost:8080/"
        },
        "id": "TxW0tUWtTMOf",
        "outputId": "99ab52a3-3875-42ae-acba-5454b4e418fc"
      },
      "execution_count": 2,
      "outputs": [
        {
          "output_type": "stream",
          "name": "stdout",
          "text": [
            "array1 type: <class 'numpy.ndarray'>\n",
            "array1 array 형태: (3,)\n"
          ]
        }
      ]
    },
    {
      "cell_type": "code",
      "source": [
        "array2 = np.array([[1, 2, 3], [2, 3, 4]])\n",
        "\n",
        "print('array2 type:', type(array2))\n",
        "print('array2 array 형태:', array2.shape)"
      ],
      "metadata": {
        "colab": {
          "base_uri": "https://localhost:8080/"
        },
        "id": "U9E8DXKyTXKE",
        "outputId": "4d338b89-9ef0-4682-d0a7-e904f36b7e1c"
      },
      "execution_count": 3,
      "outputs": [
        {
          "output_type": "stream",
          "name": "stdout",
          "text": [
            "array2 type: <class 'numpy.ndarray'>\n",
            "array2 array 형태: (2, 3)\n"
          ]
        }
      ]
    },
    {
      "cell_type": "code",
      "source": [
        "array3 = np.array([[1, 2, 3]])\n",
        "print('array3 type:', type(array3))\n",
        "print('array3 array 형태:', array3.shape)"
      ],
      "metadata": {
        "colab": {
          "base_uri": "https://localhost:8080/"
        },
        "id": "0-OwAD8tT-73",
        "outputId": "d464d2ab-ba8a-49dd-a251-3c0917beb8b1"
      },
      "execution_count": 5,
      "outputs": [
        {
          "output_type": "stream",
          "name": "stdout",
          "text": [
            "array3 type: <class 'numpy.ndarray'>\n",
            "array3 array 형태: (1, 3)\n"
          ]
        }
      ]
    },
    {
      "cell_type": "code",
      "source": [
        "print('array1: {0}차원, array2: {1}차원, array3: {2}차원'.format(array1.ndim, array2.ndim, array3.ndim))"
      ],
      "metadata": {
        "colab": {
          "base_uri": "https://localhost:8080/"
        },
        "id": "u2GiM8WlT29I",
        "outputId": "bcd956b9-e3e7-487b-ec50-bc3dee7fdcd9"
      },
      "execution_count": 6,
      "outputs": [
        {
          "output_type": "stream",
          "name": "stdout",
          "text": [
            "array1: 1차원, array2: 2차원, array3: 2차원\n"
          ]
        }
      ]
    },
    {
      "cell_type": "code",
      "source": [
        "array4 = np.array([[[1, 2, 3],[2, 3, 4]], [[1, 2, 3],[2, 3, 4]]])\n",
        "print('array4 type:', type(array4))\n",
        "print('array4 array 형태:', array4.shape)"
      ],
      "metadata": {
        "colab": {
          "base_uri": "https://localhost:8080/"
        },
        "id": "4hq8OvajUCR1",
        "outputId": "2b3e474b-672d-433a-cc7b-f9823a4a7c85"
      },
      "execution_count": 7,
      "outputs": [
        {
          "output_type": "stream",
          "name": "stdout",
          "text": [
            "array4 type: <class 'numpy.ndarray'>\n",
            "array4 array 형태: (2, 2, 3)\n"
          ]
        }
      ]
    },
    {
      "cell_type": "code",
      "source": [
        "array_2x2 = np.array([[1,2], [3,4]])\n",
        "print('array_2x2 array 형태:', array_2x2.shape)\n",
        "\n",
        "array_3x3 = np.array([[1,2,3], [4,5,6], [7,8,9]])\n",
        "print('array_3x3 array 형태:', array_3x3.shape)\n",
        "\n",
        "matrix_3x3_1 = np.array([[1, 2, 3], [4, 5, 6], [7, 8, 9]])\n",
        "matrix_3x3_2 = np.array([[1, 2, 3], [4, 5, 6], [7, 8, 9]])\n",
        "matrix_3x3_3 = np.array([[1, 2, 3], [4, 5, 6], [7, 8, 9]])\n",
        "matrix_3x3_4 = np.array([[1, 2, 3], [4, 5, 6], [7, 8, 9]])\n",
        "\n",
        "m1_2x2_of_3x3 = np.array([[matrix_3x3_1, matrix_3x3_2],\n",
        "                          [matrix_3x3_3, matrix_3x3_4]])\n",
        "\n",
        "print('m1_2x2_of_3x3 array 형태:', m1_2x2_of_3x3.shape)\n",
        "\n",
        "m2_2x2_of_3x3 = np.array([[[[1,2,3],[4,5,6],[7,8,9]],\n",
        "                      [[1,2,3],[4,5,6],[7,8,9]]],\n",
        "                      [[[1,2,3],[4,5,6],[7,8,9]],\n",
        "                      [[1,2,3],[4,5,6],[7,8,9]]]])\n",
        "\n",
        "print('m2_2x2_of_3x3 array 형태:', m2_2x2_of_3x3.shape)"
      ],
      "metadata": {
        "colab": {
          "base_uri": "https://localhost:8080/"
        },
        "id": "Qt-97ljcUEB3",
        "outputId": "73cd2075-7133-4651-ff55-ea6970fcbced"
      },
      "execution_count": 8,
      "outputs": [
        {
          "output_type": "stream",
          "name": "stdout",
          "text": [
            "array_2x2 array 형태: (2, 2)\n",
            "array_3x3 array 형태: (3, 3)\n",
            "m1_2x2_of_3x3 array 형태: (2, 2, 3, 3)\n",
            "m2_2x2_of_3x3 array 형태: (2, 2, 3, 3)\n"
          ]
        }
      ]
    },
    {
      "cell_type": "code",
      "source": [
        "m1_2x2_of_3x3"
      ],
      "metadata": {
        "colab": {
          "base_uri": "https://localhost:8080/"
        },
        "id": "-G8wnoe7UFl8",
        "outputId": "bc1de245-eb87-4afa-f335-3a68268aa1a0"
      },
      "execution_count": 9,
      "outputs": [
        {
          "output_type": "execute_result",
          "data": {
            "text/plain": [
              "array([[[[1, 2, 3],\n",
              "         [4, 5, 6],\n",
              "         [7, 8, 9]],\n",
              "\n",
              "        [[1, 2, 3],\n",
              "         [4, 5, 6],\n",
              "         [7, 8, 9]]],\n",
              "\n",
              "\n",
              "       [[[1, 2, 3],\n",
              "         [4, 5, 6],\n",
              "         [7, 8, 9]],\n",
              "\n",
              "        [[1, 2, 3],\n",
              "         [4, 5, 6],\n",
              "         [7, 8, 9]]]])"
            ]
          },
          "metadata": {},
          "execution_count": 9
        }
      ]
    },
    {
      "cell_type": "code",
      "source": [
        "m2_2x2_of_3x3"
      ],
      "metadata": {
        "colab": {
          "base_uri": "https://localhost:8080/"
        },
        "id": "GBG4auN5UHD6",
        "outputId": "139ba1d2-7305-4c0f-f3d6-abccbe48333d"
      },
      "execution_count": 10,
      "outputs": [
        {
          "output_type": "execute_result",
          "data": {
            "text/plain": [
              "array([[[[1, 2, 3],\n",
              "         [4, 5, 6],\n",
              "         [7, 8, 9]],\n",
              "\n",
              "        [[1, 2, 3],\n",
              "         [4, 5, 6],\n",
              "         [7, 8, 9]]],\n",
              "\n",
              "\n",
              "       [[[1, 2, 3],\n",
              "         [4, 5, 6],\n",
              "         [7, 8, 9]],\n",
              "\n",
              "        [[1, 2, 3],\n",
              "         [4, 5, 6],\n",
              "         [7, 8, 9]]]])"
            ]
          },
          "metadata": {},
          "execution_count": 10
        }
      ]
    },
    {
      "cell_type": "code",
      "source": [
        "print('array1: {0}차원, array2: {1}차원, array3: {2}차원, array4: {3}차원'.format(array1.ndim,array2.ndim,array3.ndim,array4.ndim))\n",
        "print('m2_2x2_of_3x3: {0}차원, m2_2x2_of_3x3: {1}차원'.format(m1_2x2_of_3x3.ndim,m2_2x2_of_3x3.ndim))"
      ],
      "metadata": {
        "colab": {
          "base_uri": "https://localhost:8080/"
        },
        "id": "jGf-h-scUIoB",
        "outputId": "7cfc92c5-b627-429c-895b-672a49951afe"
      },
      "execution_count": 11,
      "outputs": [
        {
          "output_type": "stream",
          "name": "stdout",
          "text": [
            "array1: 1차원, array2: 2차원, array3: 2차원, array4: 3차원\n",
            "m2_2x2_of_3x3: 4차원, m2_2x2_of_3x3: 4차원\n"
          ]
        }
      ]
    },
    {
      "cell_type": "markdown",
      "source": [
        "##ndarray의 데이터 타입"
      ],
      "metadata": {
        "id": "lKl5z1U8UMPy"
      }
    },
    {
      "cell_type": "code",
      "source": [
        "list1 = [1, 2, 3]\n",
        "print(type(list1))\n",
        "\n",
        "array1 = np.array(list1)\n",
        "print(type(array1))\n",
        "\n",
        "print(array1, array1.dtype)"
      ],
      "metadata": {
        "colab": {
          "base_uri": "https://localhost:8080/"
        },
        "id": "MWMQP20UUNmt",
        "outputId": "68129137-8baf-4d8f-c6ed-216271279a74"
      },
      "execution_count": 12,
      "outputs": [
        {
          "output_type": "stream",
          "name": "stdout",
          "text": [
            "<class 'list'>\n",
            "<class 'numpy.ndarray'>\n",
            "[1 2 3] int64\n"
          ]
        }
      ]
    },
    {
      "cell_type": "markdown",
      "source": [
        "####서로 다른 데이터 타입이 들어올 경우 더 큰 데이터 타입으로 변환"
      ],
      "metadata": {
        "id": "Qm1XliFLU6D8"
      }
    },
    {
      "cell_type": "code",
      "source": [
        "list2 = [1, 2, 'text']\n",
        "array2 = np.array(list2)\n",
        "print(array2, array2.dtype)"
      ],
      "metadata": {
        "colab": {
          "base_uri": "https://localhost:8080/"
        },
        "id": "yf0IkyYMUVf-",
        "outputId": "f5bc45f8-0936-43db-8aa3-5e4a90c41deb"
      },
      "execution_count": 15,
      "outputs": [
        {
          "output_type": "stream",
          "name": "stdout",
          "text": [
            "['1' '2' 'text'] <U21\n"
          ]
        }
      ]
    },
    {
      "cell_type": "code",
      "source": [
        "list3 = [1, 2, 3.0]\n",
        "array3 = np.array(list3)\n",
        "print(array3, array3.dtype)"
      ],
      "metadata": {
        "colab": {
          "base_uri": "https://localhost:8080/"
        },
        "id": "HBzONfCTU9rc",
        "outputId": "eacf55e3-7a54-4efc-9d4d-735c12940a61"
      },
      "execution_count": 14,
      "outputs": [
        {
          "output_type": "stream",
          "name": "stdout",
          "text": [
            "[1. 2. 3.] float64\n"
          ]
        }
      ]
    },
    {
      "cell_type": "markdown",
      "source": [
        "####ndarray 내 데이터 타입 변경"
      ],
      "metadata": {
        "id": "3uoj6SHQUt0m"
      }
    },
    {
      "cell_type": "code",
      "source": [
        "array_int = np.array([1, 2, 3])\n",
        "array_float = array_int.astype('float64') \n",
        "print(array_float, array_float.dtype)"
      ],
      "metadata": {
        "colab": {
          "base_uri": "https://localhost:8080/"
        },
        "id": "wn8SQBQQUidQ",
        "outputId": "0626a3f6-4ab1-4c6b-e0d1-26780e27eacd"
      },
      "execution_count": 16,
      "outputs": [
        {
          "output_type": "stream",
          "name": "stdout",
          "text": [
            "[1. 2. 3.] float64\n"
          ]
        }
      ]
    },
    {
      "cell_type": "code",
      "source": [
        "array_int1= array_float.astype('int64') \n",
        "print(array_int1, array_int1.dtype)"
      ],
      "metadata": {
        "colab": {
          "base_uri": "https://localhost:8080/"
        },
        "id": "4nRnZp4FUrMV",
        "outputId": "7745938e-c430-4b1a-8739-d6f9a272652d"
      },
      "execution_count": 17,
      "outputs": [
        {
          "output_type": "stream",
          "name": "stdout",
          "text": [
            "[1 2 3] int64\n"
          ]
        }
      ]
    },
    {
      "cell_type": "code",
      "source": [
        "array_float1 = np.array([1.9, 2.1, 3.1])\n",
        "array_int2= array_float1.astype('int64')\n",
        "print(array_int2, array_int2.dtype)"
      ],
      "metadata": {
        "colab": {
          "base_uri": "https://localhost:8080/"
        },
        "id": "mvC1ZCnPUp2T",
        "outputId": "1f990a2c-1901-4ae7-8390-97bed52eb327"
      },
      "execution_count": 18,
      "outputs": [
        {
          "output_type": "stream",
          "name": "stdout",
          "text": [
            "[1 2 3] int64\n"
          ]
        }
      ]
    },
    {
      "cell_type": "markdown",
      "source": [
        "##ndarray 생성"
      ],
      "metadata": {
        "id": "Y5aIHbO5VM4p"
      }
    },
    {
      "cell_type": "code",
      "source": [
        "sequence_array = np.arange(10)  \n",
        "print(sequence_array)\n",
        "print(sequence_array.dtype, sequence_array.shape)"
      ],
      "metadata": {
        "colab": {
          "base_uri": "https://localhost:8080/"
        },
        "id": "y_jLDWrXVETd",
        "outputId": "04213863-c598-4840-8b5b-a198fb21a026"
      },
      "execution_count": 19,
      "outputs": [
        {
          "output_type": "stream",
          "name": "stdout",
          "text": [
            "[0 1 2 3 4 5 6 7 8 9]\n",
            "int64 (10,)\n"
          ]
        }
      ]
    },
    {
      "cell_type": "code",
      "source": [
        "zero_array = np.zeros((3,3),dtype='int32')  \n",
        "print(zero_array)\n",
        "print(zero_array.dtype, zero_array.shape)   \n",
        "print('\\n')"
      ],
      "metadata": {
        "colab": {
          "base_uri": "https://localhost:8080/"
        },
        "id": "8x41phMnVQif",
        "outputId": "39066ea3-40b5-47a1-e8de-b0ce9b097af8"
      },
      "execution_count": 20,
      "outputs": [
        {
          "output_type": "stream",
          "name": "stdout",
          "text": [
            "[[0 0 0]\n",
            " [0 0 0]\n",
            " [0 0 0]]\n",
            "int32 (3, 3)\n",
            "\n",
            "\n"
          ]
        }
      ]
    },
    {
      "cell_type": "code",
      "source": [
        "one_array = np.ones((3,3))  \n",
        "print(one_array)\n",
        "print(one_array.dtype, one_array.shape)\n",
        "print('\\n')"
      ],
      "metadata": {
        "colab": {
          "base_uri": "https://localhost:8080/"
        },
        "id": "lIiaoWA7VQ2X",
        "outputId": "bd00c77e-f157-4f36-841e-22bd43a50c9b"
      },
      "execution_count": 21,
      "outputs": [
        {
          "output_type": "stream",
          "name": "stdout",
          "text": [
            "[[1. 1. 1.]\n",
            " [1. 1. 1.]\n",
            " [1. 1. 1.]]\n",
            "float64 (3, 3)\n",
            "\n",
            "\n"
          ]
        }
      ]
    },
    {
      "cell_type": "code",
      "source": [
        "one_array = np.ones((3,3), dtype=int)  \n",
        "print(one_array)\n",
        "print(one_array.dtype, one_array.shape)\n",
        "print('\\n')"
      ],
      "metadata": {
        "colab": {
          "base_uri": "https://localhost:8080/"
        },
        "id": "Wz5mgsSmVSWr",
        "outputId": "11e96365-46fe-4022-d986-c9f8f3dfa1d1"
      },
      "execution_count": 22,
      "outputs": [
        {
          "output_type": "stream",
          "name": "stdout",
          "text": [
            "[[1 1 1]\n",
            " [1 1 1]\n",
            " [1 1 1]]\n",
            "int64 (3, 3)\n",
            "\n",
            "\n"
          ]
        }
      ]
    },
    {
      "cell_type": "code",
      "source": [
        "unit_array = np.eye(3)  \n",
        "print(unit_array)\n",
        "print(unit_array.dtype, unit_array.shape)"
      ],
      "metadata": {
        "colab": {
          "base_uri": "https://localhost:8080/"
        },
        "id": "_jcKbtiKVVKD",
        "outputId": "7dd66c68-0fe7-4c01-c0ad-946607f0fe9d"
      },
      "execution_count": 23,
      "outputs": [
        {
          "output_type": "stream",
          "name": "stdout",
          "text": [
            "[[1. 0. 0.]\n",
            " [0. 1. 0.]\n",
            " [0. 0. 1.]]\n",
            "float64 (3, 3)\n"
          ]
        }
      ]
    },
    {
      "cell_type": "markdown",
      "source": [
        "##ndarray의 차원, 크기 변경"
      ],
      "metadata": {
        "id": "jTgmXGG1VWtp"
      }
    },
    {
      "cell_type": "code",
      "source": [
        "array1 = np.arange(10)\n",
        "print('array1:\\n', array1)"
      ],
      "metadata": {
        "colab": {
          "base_uri": "https://localhost:8080/"
        },
        "id": "CjJCSreUVfXL",
        "outputId": "691b5126-8c7f-4286-a596-b183e75594b3"
      },
      "execution_count": 24,
      "outputs": [
        {
          "output_type": "stream",
          "name": "stdout",
          "text": [
            "array1:\n",
            " [0 1 2 3 4 5 6 7 8 9]\n"
          ]
        }
      ]
    },
    {
      "cell_type": "code",
      "source": [
        "array2 = array1.reshape(2,5)\n",
        "print('\\n array2:\\n',array2)"
      ],
      "metadata": {
        "colab": {
          "base_uri": "https://localhost:8080/"
        },
        "id": "oSOK8cjtVgt4",
        "outputId": "0df0d816-f571-4e5d-be1b-754c2678fd6e"
      },
      "execution_count": 25,
      "outputs": [
        {
          "output_type": "stream",
          "name": "stdout",
          "text": [
            "\n",
            " array2:\n",
            " [[0 1 2 3 4]\n",
            " [5 6 7 8 9]]\n"
          ]
        }
      ]
    },
    {
      "cell_type": "code",
      "source": [
        "array3 = array1.reshape(5,2)\n",
        "print('\\n array3:\\n',array3)"
      ],
      "metadata": {
        "colab": {
          "base_uri": "https://localhost:8080/"
        },
        "id": "uxjmP9rMVjWB",
        "outputId": "31439095-956b-41eb-a681-91fe856e6189"
      },
      "execution_count": 26,
      "outputs": [
        {
          "output_type": "stream",
          "name": "stdout",
          "text": [
            "\n",
            " array3:\n",
            " [[0 1]\n",
            " [2 3]\n",
            " [4 5]\n",
            " [6 7]\n",
            " [8 9]]\n"
          ]
        }
      ]
    },
    {
      "cell_type": "code",
      "source": [
        "array1 = np.arange(10)\n",
        "print(array1)"
      ],
      "metadata": {
        "colab": {
          "base_uri": "https://localhost:8080/"
        },
        "id": "-MbxmLBWVnAZ",
        "outputId": "1ec91301-be7e-4c09-b04b-39404717cf3c"
      },
      "execution_count": 27,
      "outputs": [
        {
          "output_type": "stream",
          "name": "stdout",
          "text": [
            "[0 1 2 3 4 5 6 7 8 9]\n"
          ]
        }
      ]
    },
    {
      "cell_type": "code",
      "source": [
        "array2 = array1.reshape(-1,5)   \n",
        "print('\\n array2:\\n',array2)\n",
        "print('array2 shape:',array2.shape)"
      ],
      "metadata": {
        "colab": {
          "base_uri": "https://localhost:8080/"
        },
        "id": "8BtqHZKlVqa0",
        "outputId": "f02b988d-b501-4b6c-e111-643c1be19237"
      },
      "execution_count": 28,
      "outputs": [
        {
          "output_type": "stream",
          "name": "stdout",
          "text": [
            "\n",
            " array2:\n",
            " [[0 1 2 3 4]\n",
            " [5 6 7 8 9]]\n",
            "array2 shape: (2, 5)\n"
          ]
        }
      ]
    },
    {
      "cell_type": "code",
      "source": [
        "array3 = array1.reshape(5,-1)  \n",
        "print('\\n array3:\\n',array3)\n",
        "print('array3 shape:',array3.shape)"
      ],
      "metadata": {
        "colab": {
          "base_uri": "https://localhost:8080/"
        },
        "id": "TfMhNimjVrk6",
        "outputId": "f7c387d5-4cc6-4f86-a25f-bfcfa56d8765"
      },
      "execution_count": 29,
      "outputs": [
        {
          "output_type": "stream",
          "name": "stdout",
          "text": [
            "\n",
            " array3:\n",
            " [[0 1]\n",
            " [2 3]\n",
            " [4 5]\n",
            " [6 7]\n",
            " [8 9]]\n",
            "array3 shape: (5, 2)\n"
          ]
        }
      ]
    },
    {
      "cell_type": "code",
      "source": [
        "array4 = array1.reshape(2,-1)  \n",
        "print('\\n array4:\\n',array4)\n",
        "print('array4 shape:',array4.shape)"
      ],
      "metadata": {
        "colab": {
          "base_uri": "https://localhost:8080/"
        },
        "id": "Vo8wyW9-VssV",
        "outputId": "45068053-ca56-48c8-f84e-15b613db50f6"
      },
      "execution_count": 30,
      "outputs": [
        {
          "output_type": "stream",
          "name": "stdout",
          "text": [
            "\n",
            " array4:\n",
            " [[0 1 2 3 4]\n",
            " [5 6 7 8 9]]\n",
            "array4 shape: (2, 5)\n"
          ]
        }
      ]
    },
    {
      "cell_type": "code",
      "source": [
        "array1 = np.arange(8)\n",
        "print(array1)"
      ],
      "metadata": {
        "colab": {
          "base_uri": "https://localhost:8080/"
        },
        "id": "kImjM8PWVuE9",
        "outputId": "f572e26d-80e3-4494-d961-b2b8f88eb068"
      },
      "execution_count": 31,
      "outputs": [
        {
          "output_type": "stream",
          "name": "stdout",
          "text": [
            "[0 1 2 3 4 5 6 7]\n"
          ]
        }
      ]
    },
    {
      "cell_type": "code",
      "source": [
        "array3d = array1.reshape((2,2,2))  \n",
        "print('array3d:\\n',array3d.tolist())"
      ],
      "metadata": {
        "colab": {
          "base_uri": "https://localhost:8080/"
        },
        "id": "HC6HcfcjVvKW",
        "outputId": "e433d831-094c-4e7b-f09f-7ceaa987e1af"
      },
      "execution_count": 32,
      "outputs": [
        {
          "output_type": "stream",
          "name": "stdout",
          "text": [
            "array3d:\n",
            " [[[0, 1], [2, 3]], [[4, 5], [6, 7]]]\n"
          ]
        }
      ]
    },
    {
      "cell_type": "code",
      "source": [
        "array5 = array3d.reshape(-1,1)   \n",
        "print('array5:\\n',array5.tolist())\n",
        "print('array5 shape:',array5.shape)"
      ],
      "metadata": {
        "colab": {
          "base_uri": "https://localhost:8080/"
        },
        "id": "7o7HPfq8VwCY",
        "outputId": "9ad3b400-c3a2-4eb1-a937-86d6bf453359"
      },
      "execution_count": 33,
      "outputs": [
        {
          "output_type": "stream",
          "name": "stdout",
          "text": [
            "array5:\n",
            " [[0], [1], [2], [3], [4], [5], [6], [7]]\n",
            "array5 shape: (8, 1)\n"
          ]
        }
      ]
    },
    {
      "cell_type": "code",
      "source": [
        "array6 = array1.reshape(-1,1)\n",
        "print('array6:\\n',array6.tolist())\n",
        "print('array6 shape:',array6.shape)"
      ],
      "metadata": {
        "colab": {
          "base_uri": "https://localhost:8080/"
        },
        "id": "Xkkr-MJbVyU5",
        "outputId": "f3c6df16-43cd-4762-bfd5-20e3fb9b991b"
      },
      "execution_count": 34,
      "outputs": [
        {
          "output_type": "stream",
          "name": "stdout",
          "text": [
            "array6:\n",
            " [[0], [1], [2], [3], [4], [5], [6], [7]]\n",
            "array6 shape: (8, 1)\n"
          ]
        }
      ]
    },
    {
      "cell_type": "code",
      "source": [
        "array7 = array4.reshape(-1,1)\n",
        "print('array7:\\n',array7.tolist())\n",
        "print('array7 shape:',array6.shape)"
      ],
      "metadata": {
        "colab": {
          "base_uri": "https://localhost:8080/"
        },
        "id": "0astsRN7Vzu3",
        "outputId": "0d0fa25f-015d-40fa-cf0a-395e6c8294e4"
      },
      "execution_count": 35,
      "outputs": [
        {
          "output_type": "stream",
          "name": "stdout",
          "text": [
            "array7:\n",
            " [[0], [1], [2], [3], [4], [5], [6], [7], [8], [9]]\n",
            "array7 shape: (8, 1)\n"
          ]
        }
      ]
    },
    {
      "cell_type": "markdown",
      "source": [
        "##Indexing"
      ],
      "metadata": {
        "id": "GGnwRWBOV1A3"
      }
    },
    {
      "cell_type": "code",
      "source": [
        "array1 = np.arange(start=1, stop=10)\n",
        "print('array1:',array1)"
      ],
      "metadata": {
        "colab": {
          "base_uri": "https://localhost:8080/"
        },
        "id": "dXm180oVV5eW",
        "outputId": "17cb4add-a335-4e95-c0e0-54f56a52db19"
      },
      "execution_count": 36,
      "outputs": [
        {
          "output_type": "stream",
          "name": "stdout",
          "text": [
            "array1: [1 2 3 4 5 6 7 8 9]\n"
          ]
        }
      ]
    },
    {
      "cell_type": "code",
      "source": [
        "value = array1[2]\n",
        "print('value:',value)\n",
        "print(type(value))"
      ],
      "metadata": {
        "colab": {
          "base_uri": "https://localhost:8080/"
        },
        "id": "omJgeWb_V7-L",
        "outputId": "9dde488d-e82e-44c2-a38a-b0db9aa11389"
      },
      "execution_count": 37,
      "outputs": [
        {
          "output_type": "stream",
          "name": "stdout",
          "text": [
            "value: 3\n",
            "<class 'numpy.int64'>\n"
          ]
        }
      ]
    },
    {
      "cell_type": "code",
      "source": [
        "print('맨 뒤의 값:',array1[-1], ', 맨 뒤에서 두번째 값:',array1[-2])"
      ],
      "metadata": {
        "colab": {
          "base_uri": "https://localhost:8080/"
        },
        "id": "aWSIwEigV9ew",
        "outputId": "3dc74602-5313-4ed1-84b6-e6b1c2ddd71e"
      },
      "execution_count": 38,
      "outputs": [
        {
          "output_type": "stream",
          "name": "stdout",
          "text": [
            "맨 뒤의 값: 9 , 맨 뒤에서 두번째 값: 8\n"
          ]
        }
      ]
    },
    {
      "cell_type": "code",
      "source": [
        "array1[0] = 9\n",
        "array1[8] = 0\n",
        "print('array1:',array1)"
      ],
      "metadata": {
        "colab": {
          "base_uri": "https://localhost:8080/"
        },
        "id": "bA3_CBuxV_0U",
        "outputId": "9892874e-bdf2-480e-e310-228bcb960318"
      },
      "execution_count": 39,
      "outputs": [
        {
          "output_type": "stream",
          "name": "stdout",
          "text": [
            "array1: [9 2 3 4 5 6 7 8 0]\n"
          ]
        }
      ]
    },
    {
      "cell_type": "code",
      "source": [
        "array1d = np.arange(start=1, stop=10)\n",
        "array2d = array1d.reshape(3,3)\n",
        "print(array2d)\n",
        "\n",
        "print('(row=0,col=0) index 가리키는 값:', array2d[0,0])\n",
        "print('(row=0,col=1) index 가리키는 값:', array2d[0,1])\n",
        "print('(row=1,col=0) index 가리키는 값:', array2d[1,0])\n",
        "print('(row=2,col=2) index 가리키는 값:', array2d[2,2])"
      ],
      "metadata": {
        "colab": {
          "base_uri": "https://localhost:8080/"
        },
        "id": "RfykCqt5WBbr",
        "outputId": "ef5d5b41-fd53-4c8e-cd66-583eb8a7932b"
      },
      "execution_count": 40,
      "outputs": [
        {
          "output_type": "stream",
          "name": "stdout",
          "text": [
            "[[1 2 3]\n",
            " [4 5 6]\n",
            " [7 8 9]]\n",
            "(row=0,col=0) index 가리키는 값: 1\n",
            "(row=0,col=1) index 가리키는 값: 2\n",
            "(row=1,col=0) index 가리키는 값: 4\n",
            "(row=2,col=2) index 가리키는 값: 9\n"
          ]
        }
      ]
    },
    {
      "cell_type": "markdown",
      "source": [
        "##Slicing"
      ],
      "metadata": {
        "id": "GxiYAC1pWEqI"
      }
    },
    {
      "cell_type": "code",
      "source": [
        "array1 = np.arange(start=1, stop=10)\n",
        "array3 = array1[0:3]\n",
        "print(array3)\n",
        "print(type(array3))"
      ],
      "metadata": {
        "colab": {
          "base_uri": "https://localhost:8080/"
        },
        "id": "fUH8Sb8yWGbU",
        "outputId": "31ad9533-5fdb-4134-f963-945b44c5578a"
      },
      "execution_count": 41,
      "outputs": [
        {
          "output_type": "stream",
          "name": "stdout",
          "text": [
            "[1 2 3]\n",
            "<class 'numpy.ndarray'>\n"
          ]
        }
      ]
    },
    {
      "cell_type": "code",
      "source": [
        "array1 = np.arange(start=1, stop=10)\n",
        "array4 = array1[:3]\n",
        "print(array4)"
      ],
      "metadata": {
        "colab": {
          "base_uri": "https://localhost:8080/"
        },
        "id": "BtCMTxzIWHRt",
        "outputId": "7e515dad-950c-4b1b-a5b6-54a8e7834700"
      },
      "execution_count": 43,
      "outputs": [
        {
          "output_type": "stream",
          "name": "stdout",
          "text": [
            "[1 2 3]\n"
          ]
        }
      ]
    },
    {
      "cell_type": "code",
      "source": [
        "array5 = array1[3:]\n",
        "print(array5)"
      ],
      "metadata": {
        "colab": {
          "base_uri": "https://localhost:8080/"
        },
        "id": "69yCbXiBWIUp",
        "outputId": "44008c5e-9b8a-4e7e-e714-4073dcc6cbbd"
      },
      "execution_count": 44,
      "outputs": [
        {
          "output_type": "stream",
          "name": "stdout",
          "text": [
            "[4 5 6 7 8 9]\n"
          ]
        }
      ]
    },
    {
      "cell_type": "code",
      "source": [
        "array6 = array1[:]\n",
        "print(array6)"
      ],
      "metadata": {
        "colab": {
          "base_uri": "https://localhost:8080/"
        },
        "id": "4q-2Vbn9WOqv",
        "outputId": "6612127f-972b-4c64-aeb2-b82b1ba15c5d"
      },
      "execution_count": 45,
      "outputs": [
        {
          "output_type": "stream",
          "name": "stdout",
          "text": [
            "[1 2 3 4 5 6 7 8 9]\n"
          ]
        }
      ]
    },
    {
      "cell_type": "code",
      "source": [
        "array1d = np.arange(start=1, stop=10)\n",
        "array2d = array1d.reshape(3,3)\n",
        "print('array2d:\\n',array2d)\n",
        "\n",
        "print('array2d[0:2, 0:2] \\n', array2d[0:2, 0:2])\n",
        "print('array2d[1:3, 0:3] \\n', array2d[1:3, 0:3])\n",
        "print('array2d[1:3, :] \\n', array2d[1:3, :])\n",
        "print('array2d[:, :] \\n', array2d[:, :])\n",
        "print('array2d[:2, 1:] \\n', array2d[:2, 1:])\n",
        "print('array2d[:2, 0] \\n', array2d[:2, 0])"
      ],
      "metadata": {
        "colab": {
          "base_uri": "https://localhost:8080/"
        },
        "id": "oarMTV7ZWPiM",
        "outputId": "507a44eb-eef1-429d-c9b5-7e42723a153e"
      },
      "execution_count": 46,
      "outputs": [
        {
          "output_type": "stream",
          "name": "stdout",
          "text": [
            "array2d:\n",
            " [[1 2 3]\n",
            " [4 5 6]\n",
            " [7 8 9]]\n",
            "array2d[0:2, 0:2] \n",
            " [[1 2]\n",
            " [4 5]]\n",
            "array2d[1:3, 0:3] \n",
            " [[4 5 6]\n",
            " [7 8 9]]\n",
            "array2d[1:3, :] \n",
            " [[4 5 6]\n",
            " [7 8 9]]\n",
            "array2d[:, :] \n",
            " [[1 2 3]\n",
            " [4 5 6]\n",
            " [7 8 9]]\n",
            "array2d[:2, 1:] \n",
            " [[2 3]\n",
            " [5 6]]\n",
            "array2d[:2, 0] \n",
            " [1 4]\n"
          ]
        }
      ]
    },
    {
      "cell_type": "code",
      "source": [
        "print(array2d[0])\n",
        "print(array2d[1])\n",
        "print('array2d[0] shape:', array2d[0].shape, 'array2d[1] shape:', array2d[1].shape )"
      ],
      "metadata": {
        "colab": {
          "base_uri": "https://localhost:8080/"
        },
        "id": "IrN5EaTVWSh8",
        "outputId": "ef3f0a30-7b39-4fd7-9984-7160a6710d9d"
      },
      "execution_count": 47,
      "outputs": [
        {
          "output_type": "stream",
          "name": "stdout",
          "text": [
            "[1 2 3]\n",
            "[4 5 6]\n",
            "array2d[0] shape: (3,) array2d[1] shape: (3,)\n"
          ]
        }
      ]
    },
    {
      "cell_type": "markdown",
      "source": [
        "####fancy indexing"
      ],
      "metadata": {
        "id": "uZdJqr6DWToR"
      }
    },
    {
      "cell_type": "code",
      "source": [
        "array1d = np.arange(start=1, stop=10)\n",
        "array2d = array1d.reshape(3,3)\n",
        "\n",
        "print(array1d)\n",
        "print('\\n', array2d)"
      ],
      "metadata": {
        "colab": {
          "base_uri": "https://localhost:8080/"
        },
        "id": "jN2-Q5BcWVUG",
        "outputId": "523b75bc-705c-41f9-82b7-4c3cc8144da4"
      },
      "execution_count": 48,
      "outputs": [
        {
          "output_type": "stream",
          "name": "stdout",
          "text": [
            "[1 2 3 4 5 6 7 8 9]\n",
            "\n",
            " [[1 2 3]\n",
            " [4 5 6]\n",
            " [7 8 9]]\n"
          ]
        }
      ]
    },
    {
      "cell_type": "code",
      "source": [
        "array3 = array2d[[0,1], 2]\n",
        "print('array2d[[0,1], 2] => ',array3.tolist())"
      ],
      "metadata": {
        "colab": {
          "base_uri": "https://localhost:8080/"
        },
        "id": "Cra8t9zbWYr7",
        "outputId": "42c7b3dc-3590-41aa-c54d-670db2f80516"
      },
      "execution_count": 49,
      "outputs": [
        {
          "output_type": "stream",
          "name": "stdout",
          "text": [
            "array2d[[0,1], 2] =>  [3, 6]\n"
          ]
        }
      ]
    },
    {
      "cell_type": "code",
      "source": [
        "array4 = array2d[[0,1], 0:2]\n",
        "print('array2d[[0,1], 0:2] => ',array4.tolist())"
      ],
      "metadata": {
        "colab": {
          "base_uri": "https://localhost:8080/"
        },
        "id": "0ZBszOBiWZ-3",
        "outputId": "3cf1c870-0485-4096-a643-32b290109cbc"
      },
      "execution_count": 50,
      "outputs": [
        {
          "output_type": "stream",
          "name": "stdout",
          "text": [
            "array2d[[0,1], 0:2] =>  [[1, 2], [4, 5]]\n"
          ]
        }
      ]
    },
    {
      "cell_type": "code",
      "source": [
        "array5 = array2d[[0,1]]\n",
        "print('array2d[[0,1]] => ',array5.tolist())"
      ],
      "metadata": {
        "colab": {
          "base_uri": "https://localhost:8080/"
        },
        "id": "_vYM8l0qWbk2",
        "outputId": "01d5e908-5e09-4ecd-b2b8-960f30108206"
      },
      "execution_count": 51,
      "outputs": [
        {
          "output_type": "stream",
          "name": "stdout",
          "text": [
            "array2d[[0,1]] =>  [[1, 2, 3], [4, 5, 6]]\n"
          ]
        }
      ]
    },
    {
      "cell_type": "code",
      "source": [
        "array6 = array2d[0,[0,1]]\n",
        "print('array2d[0,[0,1]] => ',array6.tolist())"
      ],
      "metadata": {
        "colab": {
          "base_uri": "https://localhost:8080/"
        },
        "id": "U7UcB7wCWchy",
        "outputId": "22bf9cca-ed98-4645-f68b-8a876d488450"
      },
      "execution_count": 52,
      "outputs": [
        {
          "output_type": "stream",
          "name": "stdout",
          "text": [
            "array2d[0,[0,1]] =>  [1, 2]\n"
          ]
        }
      ]
    },
    {
      "cell_type": "markdown",
      "source": [
        "####Boolean indexing"
      ],
      "metadata": {
        "id": "4jWkQ7j2WdbS"
      }
    },
    {
      "cell_type": "code",
      "source": [
        "array1d = np.arange(start=1, stop=10)"
      ],
      "metadata": {
        "id": "DP4YtHc2We8_"
      },
      "execution_count": 53,
      "outputs": []
    },
    {
      "cell_type": "code",
      "source": [
        "array3 = array1d[array1d > 5]\n",
        "print('array1d > 5 불린 인덱싱 결과 값 :', array3)"
      ],
      "metadata": {
        "colab": {
          "base_uri": "https://localhost:8080/"
        },
        "id": "TjhsHgtxWhm7",
        "outputId": "588e8170-0ce3-4182-c43a-622219069a77"
      },
      "execution_count": 54,
      "outputs": [
        {
          "output_type": "stream",
          "name": "stdout",
          "text": [
            "array1d > 5 불린 인덱싱 결과 값 : [6 7 8 9]\n"
          ]
        }
      ]
    },
    {
      "cell_type": "code",
      "source": [
        "array1d > 5"
      ],
      "metadata": {
        "colab": {
          "base_uri": "https://localhost:8080/"
        },
        "id": "lQGal9ZQWh-f",
        "outputId": "a0d0424b-2f88-4edd-8285-341a5a44fabc"
      },
      "execution_count": 55,
      "outputs": [
        {
          "output_type": "execute_result",
          "data": {
            "text/plain": [
              "array([False, False, False, False, False,  True,  True,  True,  True])"
            ]
          },
          "metadata": {},
          "execution_count": 55
        }
      ]
    },
    {
      "cell_type": "code",
      "source": [
        "boolean_indexes = np.array([False, False, False, False, False,  True,  True,  True,  True])\n",
        "array3 = array1d[boolean_indexes]\n",
        "print('불린 인덱스로 필터링 결과 :', array3)"
      ],
      "metadata": {
        "colab": {
          "base_uri": "https://localhost:8080/"
        },
        "id": "quiS7oCvWkPX",
        "outputId": "b68b01fd-c30f-44f2-eab7-42a4a988feee"
      },
      "execution_count": 56,
      "outputs": [
        {
          "output_type": "stream",
          "name": "stdout",
          "text": [
            "불린 인덱스로 필터링 결과 : [6 7 8 9]\n"
          ]
        }
      ]
    },
    {
      "cell_type": "code",
      "source": [
        "indexes = np.array([5,6,7,8])\n",
        "array4 = array1d[ indexes ]\n",
        "print('일반 인덱스로 필터링 결과 :',array4)"
      ],
      "metadata": {
        "colab": {
          "base_uri": "https://localhost:8080/"
        },
        "id": "u0iPDJWpWlWM",
        "outputId": "858626bd-dc07-436f-90b5-f05165d89639"
      },
      "execution_count": 57,
      "outputs": [
        {
          "output_type": "stream",
          "name": "stdout",
          "text": [
            "일반 인덱스로 필터링 결과 : [6 7 8 9]\n"
          ]
        }
      ]
    }
  ]
}