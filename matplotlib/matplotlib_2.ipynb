{
  "nbformat": 4,
  "nbformat_minor": 0,
  "metadata": {
    "colab": {
      "provenance": [],
      "private_outputs": true,
      "authorship_tag": "ABX9TyPHHwGI4iDQMtUgF/UGitLf",
      "include_colab_link": true
    },
    "kernelspec": {
      "name": "python3",
      "display_name": "Python 3"
    },
    "language_info": {
      "name": "python"
    },
    "gpuClass": "standard"
  },
  "cells": [
    {
      "cell_type": "markdown",
      "metadata": {
        "id": "view-in-github",
        "colab_type": "text"
      },
      "source": [
        "<a href=\"https://colab.research.google.com/github/jeongaaaa/multicampus_25th/blob/master/matplotlib/matplotlib_2.ipynb\" target=\"_parent\"><img src=\"https://colab.research.google.com/assets/colab-badge.svg\" alt=\"Open In Colab\"/></a>"
      ]
    },
    {
      "cell_type": "markdown",
      "source": [
        "[pyplot 공식 도큐먼트](https://matplotlib.org/stable/api/_as_gen/matplotlib.pyplot.plot.html)"
      ],
      "metadata": {
        "id": "dDR9tvcZRdLQ"
      }
    },
    {
      "cell_type": "code",
      "execution_count": null,
      "metadata": {
        "id": "uqc0t0cRRZjd"
      },
      "outputs": [],
      "source": [
        "!sudo apt-get install -y fonts-nanum\n",
        "!sudo fc-cache -fv\n",
        "!rm ~/.cache/matplotlib -rf\n",
        "\n",
        "#코드 실행 후 런타임 다시 실행"
      ]
    },
    {
      "cell_type": "code",
      "source": [
        "#런타임 다시 실행 후 이 코드만 실행\n",
        "\n",
        "import matplotlib.pyplot as plt\n",
        "\n",
        "plt.rc('font', family='NanumBarunGothic') "
      ],
      "metadata": {
        "id": "p-dfRGNoazbI"
      },
      "execution_count": null,
      "outputs": []
    },
    {
      "cell_type": "code",
      "source": [
        "import matplotlib.pyplot as plt\n",
        "import numpy as np"
      ],
      "metadata": {
        "id": "xOSPDqufR2Wf"
      },
      "execution_count": null,
      "outputs": []
    },
    {
      "cell_type": "markdown",
      "source": [
        "#matplotlib.pyplot의 기본적인 canvas 그리기와 스타일링 예제"
      ],
      "metadata": {
        "id": "wgs_tLoORo8r"
      }
    },
    {
      "cell_type": "markdown",
      "source": [
        "##1. 밑그림"
      ],
      "metadata": {
        "id": "jlhgX6jSSK1W"
      }
    },
    {
      "cell_type": "markdown",
      "source": [
        "###1-1. 단일 그래프"
      ],
      "metadata": {
        "id": "Y4JrM9OBSNCF"
      }
    },
    {
      "cell_type": "code",
      "source": [
        "## data 생성\n",
        "# arange -> array + range\n",
        "# 1이상 100미만의 array를 생성할 때 -> 리스트\n",
        "\n",
        "data = np.arange(1, 100)\n",
        "print(data)\n",
        "data.shape"
      ],
      "metadata": {
        "id": "SO_PBCZhSF6s"
      },
      "execution_count": null,
      "outputs": []
    },
    {
      "cell_type": "code",
      "source": [
        "# x축의 데이터 리스트 생성\n",
        "# 0.1이상 10미만 (0.1씩 증가)\n",
        "\n",
        "x_data = np.arange(0.1, 10, 0.1)\n",
        "x_data.shape"
      ],
      "metadata": {
        "id": "vMd8N2HLSmld"
      },
      "execution_count": null,
      "outputs": []
    },
    {
      "cell_type": "code",
      "source": [
        "plt.rc('font', family='NanumBarunGothic') \n",
        "plt.rcParams[\"figure.figsize\"] = (12, 9)"
      ],
      "metadata": {
        "id": "SKwwgzTWSrJH"
      },
      "execution_count": null,
      "outputs": []
    },
    {
      "cell_type": "code",
      "source": [
        "## plot\n",
        "# data 1:1대응\n",
        "#plot(x데이터 리스트, y데이터 리스트)\n",
        "\n",
        "plt.plot(x_data, data)\n",
        "plt.show()"
      ],
      "metadata": {
        "id": "sv86EYSASwtV"
      },
      "execution_count": null,
      "outputs": []
    },
    {
      "cell_type": "markdown",
      "source": [
        "###1-2. 다중 그래프 (multiple graphs)\n",
        ": 1개의 canvas 안에 다중 그래프 그리기"
      ],
      "metadata": {
        "id": "UE-EIdnLUTs6"
      }
    },
    {
      "cell_type": "code",
      "source": [
        "data = np.arange(1, 51)\n",
        "plt.plot(data)\n",
        "\n",
        "data2 = np.arange(51, 101)\n",
        "\n",
        "plt.plot(data2)\n",
        "plt.plot(data2+50)\n",
        "\n",
        "plt.show()"
      ],
      "metadata": {
        "id": "Kt6xBhMbUcBh"
      },
      "execution_count": null,
      "outputs": []
    },
    {
      "cell_type": "markdown",
      "source": [
        "2개의 figure로 나눠서 다중 그래프 그리기\n",
        "- figure(): 새로운 그래프 canvas 생성"
      ],
      "metadata": {
        "id": "MFWMPIRtUo3T"
      }
    },
    {
      "cell_type": "code",
      "source": [
        "data = np.arange(1, 51)\n",
        "plt.plot(data)\n",
        "\n",
        "data2 = np.arange(51, 101)\n",
        "plt.figure()\n",
        "plt.plot(data2)\n",
        "plt.plot(data2+50)\n",
        "\n",
        "plt.show()"
      ],
      "metadata": {
        "id": "HX2pXuykU5WL"
      },
      "execution_count": null,
      "outputs": []
    },
    {
      "cell_type": "code",
      "source": [
        "data = np.arange(100, 201)\n",
        "plt.plot(data)\n",
        "\n",
        "data2 = np.arange(200, 301)\n",
        "\n",
        "plt.figure()\n",
        "plt.plot(data2)\n",
        "\n",
        "plt.show()"
      ],
      "metadata": {
        "id": "P7_aDws0Ut4P"
      },
      "execution_count": null,
      "outputs": []
    },
    {
      "cell_type": "markdown",
      "source": [
        "###1-3. 여러개의 plot 그리기 (subplot)\n",
        ": subplot(row, column, index)"
      ],
      "metadata": {
        "id": "vWRnxr8FVEaO"
      }
    },
    {
      "cell_type": "code",
      "source": [
        "data = np.arange(100, 201)\n",
        "\n",
        "plt.rcParams[\"figure.figsize\"] = (10,7)\n",
        "\n",
        "\n",
        "# 2행 1열\n",
        "plt.subplot(2, 1, 1)\n",
        "plt.plot(data)\n",
        "\n",
        "data2 = np.arange(200, 301)\n",
        "plt.subplot(2, 1, 2)\n",
        "plt.plot(data2)\n",
        "\n",
        "plt.show()"
      ],
      "metadata": {
        "id": "9cd2_xsWVHcq"
      },
      "execution_count": null,
      "outputs": []
    },
    {
      "cell_type": "code",
      "source": [
        "#콤마 생략하고 row, column, index로 작성가능\n",
        "\n",
        "data = np.arange(100, 201)\n",
        "# 211 -> row: 2, col: 1, index: 1\n",
        "plt.subplot(211)\n",
        "plt.plot(data)\n",
        "\n",
        "data2 = np.arange(200, 301)\n",
        "plt.subplot(212)\n",
        "plt.plot(data2)\n",
        "\n",
        "plt.show()"
      ],
      "metadata": {
        "id": "cYs_RcjUVewJ"
      },
      "execution_count": null,
      "outputs": []
    },
    {
      "cell_type": "code",
      "source": [
        "data = np.arange(100, 201)\n",
        "plt.subplot(1, 3, 1)\n",
        "plt.plot(data)\n",
        "\n",
        "data2 = np.arange(200, 301)\n",
        "plt.subplot(1, 3, 2)\n",
        "plt.plot(data2)\n",
        "\n",
        "data3 = np.arange(300, 401)\n",
        "plt.subplot(1, 3, 3)\n",
        "plt.plot(data3)\n",
        "\n",
        "plt.show()"
      ],
      "metadata": {
        "id": "mFmxQnwMVl5t"
      },
      "execution_count": null,
      "outputs": []
    },
    {
      "cell_type": "markdown",
      "source": [
        "###1-4. 여러개의 plot 그리기 (subplots)\n",
        ": plt.subplots(행의 개수, 열의 개수)"
      ],
      "metadata": {
        "id": "3ks14cYkVpn6"
      }
    },
    {
      "cell_type": "code",
      "source": [
        "#data 생성\n",
        "data = np.arange(1, 51)\n",
        "\n",
        "# 창을 2행 3열으로 생성\n",
        "fig, axes = plt.subplots(2, 3)\n",
        "\n",
        "#axes로 그림을 그릴 창의 위치 좌표를 지정.plot(data) \n",
        "axes[0, 0].plot(data)\n",
        "axes[0, 1].plot(data * data)\n",
        "axes[0, 2].plot(data ** 3)\n",
        "axes[1, 0].plot(data % 10)\n",
        "axes[1, 1].plot(-data)\n",
        "axes[1, 2].plot(data // 20)\n",
        "\n",
        "plt.tight_layout()\n",
        "plt.show()"
      ],
      "metadata": {
        "id": "IckXfqdSVvjR"
      },
      "execution_count": null,
      "outputs": []
    },
    {
      "cell_type": "code",
      "source": [],
      "metadata": {
        "id": "L9JiEMIUV9Ku"
      },
      "execution_count": null,
      "outputs": []
    },
    {
      "cell_type": "markdown",
      "source": [
        "##2. 주요 스타일 옵션"
      ],
      "metadata": {
        "id": "hVRMN-w3V9kF"
      }
    },
    {
      "cell_type": "code",
      "source": [
        "from IPython.display import Image\n",
        "\n",
        "# 출처: matplotlib.org\n",
        "Image('https://matplotlib.org/_images/anatomy.png')"
      ],
      "metadata": {
        "id": "-C8z29mAV_7D"
      },
      "execution_count": null,
      "outputs": []
    },
    {
      "cell_type": "markdown",
      "source": [
        "##2-1. 타이틀"
      ],
      "metadata": {
        "id": "cHLBFy52WCaX"
      }
    },
    {
      "cell_type": "code",
      "source": [
        "plt.plot([1, 2, 3], [3, 6, 9])\n",
        "plt.plot([1, 2, 3], [2, 4, 9])\n",
        "#타이틀 설정\n",
        "plt.title('이것은 타이틀 입니다')\n",
        "\n",
        "plt.show()"
      ],
      "metadata": {
        "id": "TRPhGxCjWEAc"
      },
      "execution_count": null,
      "outputs": []
    },
    {
      "cell_type": "code",
      "source": [
        "plt.plot([1, 2, 3], [3, 6, 9])\n",
        "plt.plot([1, 2, 3], [2, 4, 9])\n",
        "#font 설정\n",
        "plt.title('타이틀 fontsize를 키웁니다', fontsize=20)\n",
        "\n",
        "plt.show()"
      ],
      "metadata": {
        "id": "_x-TSCUDWMAv"
      },
      "execution_count": null,
      "outputs": []
    },
    {
      "cell_type": "markdown",
      "source": [
        "###2-2. X, Y축 Label 설정"
      ],
      "metadata": {
        "id": "lkmbNv62WQ77"
      }
    },
    {
      "cell_type": "code",
      "source": [
        "plt.plot([1, 2, 3], [3, 6, 9])\n",
        "plt.plot([1, 2, 3], [2, 4, 9])\n",
        "\n",
        "plt.title('Label 설정 예제입니다', fontsize=20)\n",
        "\n",
        "# X축 & Y축 Label 설정\n",
        "plt.xlabel('X축', fontsize=20)\n",
        "plt.ylabel('Y축', fontsize=20)\n",
        "\n",
        "plt.show()"
      ],
      "metadata": {
        "id": "PKOabYfsWTo3"
      },
      "execution_count": null,
      "outputs": []
    },
    {
      "cell_type": "markdown",
      "source": [
        "###2-3. X, Y축 Tick 설정 (rotation)\n",
        ": Tick → x축, y축에 위치한 눈금"
      ],
      "metadata": {
        "id": "4M7hi-GFWXLT"
      }
    },
    {
      "cell_type": "code",
      "source": [
        "plt.plot(np.arange(10), np.arange(10)*2)\n",
        "plt.plot(np.arange(10), np.arange(10)**2)\n",
        "plt.plot(np.arange(10), np.log(np.arange(10)))\n",
        "\n",
        "plt.title('X, Y 틱을 조정합니다', fontsize=20)\n",
        "\n",
        "plt.xlabel('X축', fontsize=20)\n",
        "plt.ylabel('Y축', fontsize=20)\n",
        "\n",
        "# X tick, Y tick 설정\n",
        "plt.xticks(rotation=90)\n",
        "plt.yticks(rotation=30)\n",
        "\n",
        "plt.show()"
      ],
      "metadata": {
        "id": "nqgcUPMnWb6s"
      },
      "execution_count": null,
      "outputs": []
    },
    {
      "cell_type": "markdown",
      "source": [
        "###2-4. 범례(legend) 설정"
      ],
      "metadata": {
        "id": "6ajtWsdEWolC"
      }
    },
    {
      "cell_type": "code",
      "source": [
        "plt.plot(np.arange(10), np.arange(10)*2)\n",
        "plt.plot(np.arange(10), np.arange(10)**2)\n",
        "plt.plot(np.arange(10), np.log(np.arange(10)))\n",
        "\n",
        "plt.title('범례 설정 예제입니다', fontsize=20)\n",
        "\n",
        "plt.xlabel('X축', fontsize=20)\n",
        "plt.ylabel('Y축', fontsize=20)\n",
        "\n",
        "plt.xticks(rotation=90)\n",
        "plt.yticks(rotation=30)\n",
        "\n",
        "# legend 설정\n",
        "plt.legend(['10 * 2', '10 ** 2', 'log'], fontsize=15)\n",
        "\n",
        "plt.show()"
      ],
      "metadata": {
        "id": "tgO60eOsWr2Z"
      },
      "execution_count": null,
      "outputs": []
    },
    {
      "cell_type": "markdown",
      "source": [
        "###2-5. X와 Y의 한계점(limit) 설정\n",
        "\n",
        "xlim(), ylim()\n",
        "\n"
      ],
      "metadata": {
        "id": "j1p9qzOCWwXl"
      }
    },
    {
      "cell_type": "code",
      "source": [
        "plt.plot(np.arange(10), np.arange(10)*2)\n",
        "plt.plot(np.arange(10), np.arange(10)**2)\n",
        "plt.plot(np.arange(10), np.log(np.arange(10)))\n",
        "\n",
        "plt.title('이것은 타이틀 입니다', fontsize=20)\n",
        "\n",
        "plt.xlabel('X축', fontsize=20)\n",
        "plt.ylabel('Y축', fontsize=20)\n",
        "\n",
        "plt.xticks(rotation=90)\n",
        "plt.yticks(rotation=30)\n",
        "\n",
        "plt.legend(['10 * 2', '10 ** 2', 'log'], fontsize=15)\n",
        "\n",
        "# x, y limit 설정 : 그래프의 확대 효과\n",
        "plt.xlim(0, 5)\n",
        "plt.ylim(0.5, 10)\n",
        "\n",
        "plt.show()"
      ],
      "metadata": {
        "id": "bTw3aY12W1Pl"
      },
      "execution_count": null,
      "outputs": []
    },
    {
      "cell_type": "markdown",
      "source": [
        "###2-6. 스타일 세부 설정 - 마커, 라인, 컬러"
      ],
      "metadata": {
        "id": "ihsahtoEW_EC"
      }
    },
    {
      "cell_type": "markdown",
      "source": [
        "[세부 도큐먼트](https://matplotlib.org/stable/api/_as_gen/matplotlib.pyplot.plot.html)"
      ],
      "metadata": {
        "id": "XMPc0a5iXFCI"
      }
    },
    {
      "cell_type": "markdown",
      "source": [
        "**marker의 종류**\n",
        "\n",
        "- '.' point marker\n",
        "- ',' pixel marker\n",
        "- 'o' circle marker\n",
        "- 'v' triangle_down marker\n",
        "- '^' triangle_up marker\n",
        "- '<' triangle_left marker\n",
        "- '>' triangle_right marker\n",
        "- '1' tri_down marker\n",
        "- '2' tri_up marker\n",
        "- '3' tri_left marker\n",
        "- '4' tri_right marker\n",
        "- 's' square marker\n",
        "- 'p' pentagon marker\n",
        "- '*' star marker\n",
        "- 'h' hexagon1 marker\n",
        "- 'H' hexagon2 marker\n",
        "- '+' plus marker\n",
        "- 'x' x marker\n",
        "- 'D' diamond marker\n",
        "- 'd' thin_diamond marker\n",
        "- '|' vline marker\n",
        "- '_' hline marker"
      ],
      "metadata": {
        "id": "Df1TFaDsXIjh"
      }
    },
    {
      "cell_type": "code",
      "source": [
        "plt.plot(np.arange(10), np.arange(10)*2, marker='o', markersize=5)\n",
        "plt.plot(np.arange(10), np.arange(10)*2 - 10, marker='v', markersize=10)\n",
        "plt.plot(np.arange(10), np.arange(10)*2 - 20, marker='+', markersize=15)\n",
        "plt.plot(np.arange(10), np.arange(10)*2 - 30, marker='*', markersize=20)\n",
        "\n",
        "plt.title('마커 설정 예제', fontsize=20)\n",
        "\n",
        "plt.xlabel('X축', fontsize=20)\n",
        "plt.ylabel('Y축', fontsize=20)\n",
        "\n",
        "plt.xticks(rotation=90)\n",
        "plt.yticks(rotation=30)\n",
        "\n",
        "plt.show()"
      ],
      "metadata": {
        "id": "dZ5SYlgtXWKX"
      },
      "execution_count": null,
      "outputs": []
    },
    {
      "cell_type": "markdown",
      "source": [
        "**line의 종류**\n",
        "\n",
        "- '-' solid line style\n",
        "- '--' dashed line style\n",
        "- '-.' dash-dot line style\n",
        "- ':' dotted line style"
      ],
      "metadata": {
        "id": "SZqTHBP8XciD"
      }
    },
    {
      "cell_type": "code",
      "source": [
        "plt.plot(np.arange(10), np.arange(10)*2, marker='o', linestyle='')\n",
        "plt.plot(np.arange(10), np.arange(10)*2 - 10, marker='o', linestyle='-')\n",
        "plt.plot(np.arange(10), np.arange(10)*2 - 20, marker='v', linestyle='--')\n",
        "plt.plot(np.arange(10), np.arange(10)*2 - 30, marker='+', linestyle='-.')\n",
        "plt.plot(np.arange(10), np.arange(10)*2 - 40, marker='*', linestyle=':')\n",
        "\n",
        "plt.title('다양한 선의 종류 예제', fontsize=20)\n",
        "\n",
        "plt.xlabel('X축', fontsize=20)\n",
        "plt.ylabel('Y축', fontsize=20)\n",
        "\n",
        "plt.xticks(rotation=90)\n",
        "plt.yticks(rotation=30)\n",
        "\n",
        "plt.show()"
      ],
      "metadata": {
        "id": "HN3K_JHGXH5H"
      },
      "execution_count": null,
      "outputs": []
    },
    {
      "cell_type": "markdown",
      "source": [
        "**color의 종류**\n",
        "\n",
        "- 'b' blue\n",
        "- 'g' green\n",
        "- 'r' red\n",
        "- 'c' cyan\n",
        "- 'm' magenta\n",
        "- 'y' yellow\n",
        "- 'k' black\n",
        "- 'w' white"
      ],
      "metadata": {
        "id": "SqiHEdsgXpKI"
      }
    },
    {
      "cell_type": "code",
      "source": [
        "plt.plot(np.arange(10), np.arange(10)*2, marker='o', linestyle='-', color='b')\n",
        "plt.plot(np.arange(10), np.arange(10)*2 - 10, marker='v', linestyle='--', color='c')\n",
        "plt.plot(np.arange(10), np.arange(10)*2 - 20, marker='+', linestyle='-.', color='y')\n",
        "plt.plot(np.arange(10), np.arange(10)*2 - 30, marker='*', linestyle=':', color='r')\n",
        "\n",
        "plt.title('색상 설정 예제', fontsize=20)\n",
        "\n",
        "plt.xlabel('X축', fontsize=20)\n",
        "plt.ylabel('Y축', fontsize=20)\n",
        "\n",
        "plt.xticks(rotation=90)\n",
        "plt.yticks(rotation=30)\n",
        "\n",
        "plt.show()"
      ],
      "metadata": {
        "id": "Rla1eK1JXtjr"
      },
      "execution_count": null,
      "outputs": []
    },
    {
      "cell_type": "code",
      "source": [
        "plt.plot(np.arange(10), np.arange(10)*2, color='b', alpha=0.1)\n",
        "plt.plot(np.arange(10), np.arange(10)*2 - 10, color='b', alpha=0.3)\n",
        "plt.plot(np.arange(10), np.arange(10)*2 - 20, color='b', alpha=0.6)\n",
        "plt.plot(np.arange(10), np.arange(10)*2 - 30, color='b', alpha=1.0)\n",
        "\n",
        "plt.title('투명도 (alpha) 설정 예제', fontsize=20)\n",
        "\n",
        "plt.xlabel('X축', fontsize=20)\n",
        "plt.ylabel('Y축', fontsize=20)\n",
        "\n",
        "plt.xticks(rotation=90)\n",
        "plt.yticks(rotation=30)\n",
        "\n",
        "plt.show()"
      ],
      "metadata": {
        "id": "lFvPyWCAXxxN"
      },
      "execution_count": null,
      "outputs": []
    },
    {
      "cell_type": "markdown",
      "source": [
        "###2-7. 그리드 설정"
      ],
      "metadata": {
        "id": "ewTP02T3X0i6"
      }
    },
    {
      "cell_type": "code",
      "source": [
        "plt.plot(np.arange(10), np.arange(10)*2, marker='o', linestyle='-', color='b')\n",
        "plt.plot(np.arange(10), np.arange(10)*2 - 10, marker='v', linestyle='--', color='c')\n",
        "plt.plot(np.arange(10), np.arange(10)*2 - 20, marker='+', linestyle='-.', color='y')\n",
        "plt.plot(np.arange(10), np.arange(10)*2 - 30, marker='*', linestyle=':', color='r')\n",
        "\n",
        "plt.title('그리드 설정 예제', fontsize=20)\n",
        "\n",
        "plt.xlabel('X축', fontsize=20)\n",
        "plt.ylabel('Y축', fontsize=20)\n",
        "\n",
        "plt.xticks(rotation=90)\n",
        "plt.yticks(rotation=30)\n",
        "\n",
        "#그리드 옵션 추가\n",
        "plt.grid()\n",
        "\n",
        "plt.show()"
      ],
      "metadata": {
        "id": "gFBwsQCHX2re"
      },
      "execution_count": null,
      "outputs": []
    }
  ]
}