{
 "cells": [
  {
   "cell_type": "code",
   "execution_count": null,
   "id": "85202aa5",
   "metadata": {},
   "outputs": [],
   "source": [
    "import pandas as pd"
   ]
  },
  {
   "cell_type": "code",
   "execution_count": null,
   "id": "159e55a1",
   "metadata": {},
   "outputs": [],
   "source": [
    "kto_201901 = pd.read_excel('./files/kto_201901.xlsx', header=1, usecols='A:G', skipfooter=4)\n",
    "kto_201901.head()"
   ]
  },
  {
   "cell_type": "code",
   "execution_count": null,
   "id": "479f38a7",
   "metadata": {},
   "outputs": [],
   "source": [
    "kto_201901.info()"
   ]
  },
  {
   "cell_type": "code",
   "execution_count": null,
   "id": "86da696e",
   "metadata": {},
   "outputs": [],
   "source": [
    "kto_201901.describe()"
   ]
  },
  {
   "cell_type": "code",
   "execution_count": null,
   "id": "99865612",
   "metadata": {},
   "outputs": [],
   "source": [
    "#조건정의\n",
    "\n",
    "condition = (kto_201901['관광']==0)|(kto_201901['상용']==0)|(kto_201901['공용']==0)|(kto_201901['유학/연수']==0)\n",
    "kto_201901[condition]"
   ]
  },
  {
   "cell_type": "code",
   "execution_count": null,
   "id": "51366e14",
   "metadata": {},
   "outputs": [],
   "source": [
    "#칼럼추가\n",
    "\n",
    "kto_201901['기준년월'] = '2019-01'\n",
    "kto_201901.head()"
   ]
  },
  {
   "cell_type": "code",
   "execution_count": null,
   "id": "30a82f48",
   "metadata": {},
   "outputs": [],
   "source": [
    "kto_201901['국적'].unique()"
   ]
  },
  {
   "cell_type": "code",
   "execution_count": null,
   "id": "4def7acd",
   "metadata": {},
   "outputs": [],
   "source": [
    "continents_list = ['아시아주', '미주', '구주', '대양주', '아프리카주', '기타대륙', '교포소계']\n",
    "continents_list"
   ]
  },
  {
   "cell_type": "code",
   "execution_count": null,
   "id": "a7c129eb",
   "metadata": {},
   "outputs": [],
   "source": [
    "#대륙 정보 제외하고 나라 이름만 남기기\n",
    "\n",
    "condition = (kto_201901.국적.isin(continents_list) == False)\n",
    "kto_201901_country = kto_201901[condition]\n",
    "kto_201901_country['국적'].unique()"
   ]
  },
  {
   "cell_type": "code",
   "execution_count": null,
   "id": "7f8831ed",
   "metadata": {},
   "outputs": [],
   "source": [
    "kto_201901_country.head()"
   ]
  },
  {
   "cell_type": "code",
   "execution_count": null,
   "id": "c37c9fc0",
   "metadata": {},
   "outputs": [],
   "source": [
    "kto_201901_country_newindex = kto_201901_country.reset_index(drop=True)\n",
    "kto_201901_country_newindex.head()"
   ]
  },
  {
   "cell_type": "code",
   "execution_count": null,
   "id": "4104d3af",
   "metadata": {},
   "outputs": [],
   "source": [
    "continents = ['아시아']*25 + ['아메리카']*5 + ['유럽']*23 + ['오세아니아']*3 + ['아프리카']*2 +['기타대륙'] + ['교포']\n",
    "print(continents)"
   ]
  },
  {
   "cell_type": "code",
   "execution_count": null,
   "id": "200441c7",
   "metadata": {},
   "outputs": [],
   "source": [
    "kto_201901_country_newindex['대륙'] = continents\n",
    "kto_201901_country_newindex.tail(10)"
   ]
  },
  {
   "cell_type": "code",
   "execution_count": null,
   "id": "6f7ac527",
   "metadata": {},
   "outputs": [],
   "source": [
    "kto_201901_country_newindex['관광객비율(%)']=round(kto_201901_country_newindex['관광'] / kto_201901_country_newindex['계']*100, 1)\n",
    "kto_201901_country_newindex.head()"
   ]
  },
  {
   "cell_type": "code",
   "execution_count": null,
   "id": "29e7c872",
   "metadata": {
    "scrolled": true
   },
   "outputs": [],
   "source": [
    "kto_201901_country_newindex.sort_values(by='관광객비율(%)').head()"
   ]
  },
  {
   "cell_type": "code",
   "execution_count": null,
   "id": "55f1ded0",
   "metadata": {},
   "outputs": [],
   "source": [
    "#피벗테이블 만들기\n",
    "\n",
    "kto_201901_country_newindex.pivot_table(values='관광객비율(%)', index = '대륙', aggfunc = 'mean')"
   ]
  },
  {
   "cell_type": "code",
   "execution_count": null,
   "id": "29b9415a",
   "metadata": {},
   "outputs": [],
   "source": [
    "tourist_sum = sum(kto_201901['관광'])\n",
    "kto_201901_country_newindex['전체비율(%)'] = \\\n",
    "    round(kto_201901_country_newindex['관광'] / \\\n",
    "    tourist_sum*100, 1)\n",
    "kto_201901_country_newindex.head()"
   ]
  },
  {
   "cell_type": "code",
   "execution_count": null,
   "id": "f2c2d9e7",
   "metadata": {},
   "outputs": [],
   "source": [
    "kto_201901_country_newindex.sort_values(by='전체비율(%)', ascending=False).head(10)"
   ]
  },
  {
   "cell_type": "code",
   "execution_count": null,
   "id": "359c0e45",
   "metadata": {},
   "outputs": [],
   "source": [
    "def create_kto_data(yy, mm):\n",
    "    file_path = './files/kto_{}{}.xlsx'.format(yy,mm)\n",
    "    df = pd.read_excel(file_path, \\\n",
    "                           header=1, usecols='A:G',\\\n",
    "                           skipfooter=4)\n",
    "    df['기준년월'] = '{}-{}'.format(yy,mm)\n",
    "    ignore_list = ['아시아주','미주','구주','대양주',\\\n",
    "                   '아프리카주','기타대륙','교포소계']\n",
    "    condition = (df['국적'].isin(ignore_list)==False)\n",
    "    df_country = df[condition].reset_index(drop=True)\n",
    "    continents = ['아시아']*25 + ['아메리카']*5 + ['유럽']*23 \\\n",
    "    + ['오세아니아']*3 + ['아프리카']*2 + ['기타대륙'] + ['교포']\n",
    "    df_country['대륙'] = continents\n",
    "    df_country['관광객비율(%)'] = round(df_country['관광']/df_country['계'] * 100, 1)\n",
    "    tourist_sum = sum(df_country['관광'])\n",
    "    df_country['전체비율(%)'] = round(df_country['관광']/tourist_sum * 100, 1)\n",
    "    return(df_country)"
   ]
  },
  {
   "cell_type": "code",
   "execution_count": null,
   "id": "4e9083d9",
   "metadata": {},
   "outputs": [],
   "source": [
    "kto_test = create_kto_data(2018,12)\n",
    "kto_test.head()"
   ]
  },
  {
   "cell_type": "code",
   "execution_count": null,
   "id": "839fc93b",
   "metadata": {},
   "outputs": [],
   "source": [
    "for yy in range(2010, 2021):\n",
    "    for mm in range(1, 13):\n",
    "        ##zfill함수 → mm은 무조건 2칸 채워서\n",
    "        mm_str = str(mm).zfill(2)\n",
    "        yymm = '{}{}'.format(yy,mm_str)\n",
    "        print(yymm)"
   ]
  },
  {
   "cell_type": "code",
   "execution_count": null,
   "id": "66932f35",
   "metadata": {},
   "outputs": [],
   "source": [
    "df = pd.DataFrame()"
   ]
  },
  {
   "cell_type": "code",
   "execution_count": null,
   "id": "2148ed83",
   "metadata": {},
   "outputs": [],
   "source": [
    "for yy in range(2010, 2021):\n",
    "    for mm in range(1, 13):\n",
    "        #try구문\n",
    "        try:\n",
    "            temp = create_kto_data(str(yy), str(mm).zfill(2))\n",
    "            df = df.append(temp, ignore_index=True)\n",
    "        except:\n",
    "            pass\n",
    "df.info()"
   ]
  },
  {
   "cell_type": "code",
   "execution_count": null,
   "id": "a3b2baa2",
   "metadata": {},
   "outputs": [],
   "source": [
    "df.head()"
   ]
  },
  {
   "cell_type": "code",
   "execution_count": null,
   "id": "51b69451",
   "metadata": {},
   "outputs": [],
   "source": [
    "df.to_excel('./files/kto_total_20230331.xlsx', index=False)"
   ]
  },
  {
   "cell_type": "code",
   "execution_count": null,
   "id": "04a4a7be",
   "metadata": {},
   "outputs": [],
   "source": []
  },
  {
   "cell_type": "code",
   "execution_count": null,
   "id": "e9032d3c",
   "metadata": {},
   "outputs": [],
   "source": [
    "from matplotlib import font_manager, rc\n",
    "import platform \n",
    "\n",
    "if platform.system() == 'Windows': \n",
    "    path = 'c:/Windows/Fonts/malgun.ttf'\n",
    "    font_name = font_manager.FontProperties(fname=path).get_name()\n",
    "    rc('font', family=font_name)\n",
    "elif platform.system() == 'Darwin':\n",
    "    rc('font', family='AppleGothic')\n",
    "else: \n",
    "    print('Check your OS system')"
   ]
  },
  {
   "cell_type": "code",
   "execution_count": null,
   "id": "57b1591c",
   "metadata": {},
   "outputs": [],
   "source": [
    "#시계열 그래프"
   ]
  },
  {
   "cell_type": "code",
   "execution_count": null,
   "id": "d77b9833",
   "metadata": {},
   "outputs": [],
   "source": [
    "import matplotlib.pyplot as plt\n",
    "plt.plot(df['기준년월'], df['관광'])\n",
    "plt.show()"
   ]
  },
  {
   "cell_type": "code",
   "execution_count": null,
   "id": "4ef97987",
   "metadata": {},
   "outputs": [],
   "source": [
    "#중국 데이터만 추출\n",
    "\n",
    "condition = (df['국적'].isin(['중국']) == True)\n",
    "df_filter = df[condition]\n",
    "df_filter.head()"
   ]
  },
  {
   "cell_type": "code",
   "execution_count": null,
   "id": "710a9452",
   "metadata": {
    "scrolled": true
   },
   "outputs": [],
   "source": [
    "plt.figure(figsize=(12,4))\n",
    "plt.plot(df_filter['기준년월'], df_filter['관광'])\n",
    "plt.title('중국 국적의 관광객 추이')\n",
    "plt.xlabel('기준년월')\n",
    "plt.ylabel('관광객수')\n",
    "plt.xticks(['2010-01', '2011-01', '2012-01', '2013-01', '2014-01', '2015-01', '2016-01', '2017-01', '2018-01', '2019-01', '2020-01'])\n",
    "plt.show()"
   ]
  },
  {
   "cell_type": "code",
   "execution_count": null,
   "id": "a41b4640",
   "metadata": {},
   "outputs": [],
   "source": [
    "cntry_list = ['중국', '일본', '대만', '미국', '홍콩']\n",
    "for cntry in cntry_list:\n",
    "    condition = (df['국적']==cntry)\n",
    "    df_filter = df[condition]\n",
    "    plt.figure(figsize=(12,4))\n",
    "    plt.plot(df_filter['기준년월'], df_filter['관광'])\n",
    "    plt.title('{} 국적의 관광객 추이'.format(cntry))\n",
    "    plt.xlabel('기준년월')\n",
    "    plt.ylabel('관광객수')\n",
    "    plt.xticks(['2010-01', '2011-01', '2012-01', '2013-01', '2014-01', '2015-01', '2016-01', '2017-01', '2018-01', '2019-01', '2020-01'])\n",
    "    plt.show()"
   ]
  },
  {
   "cell_type": "code",
   "execution_count": null,
   "id": "e5c721eb",
   "metadata": {},
   "outputs": [],
   "source": [
    "#히트맵 그래프"
   ]
  },
  {
   "cell_type": "code",
   "execution_count": null,
   "id": "a382af9e",
   "metadata": {},
   "outputs": [],
   "source": [
    "df['년도'] = df['기준년월'].str.slice(0,4)\n",
    "df['월'] = df['기준년월'].str.slice(5,7)\n",
    "df.head()"
   ]
  },
  {
   "cell_type": "code",
   "execution_count": null,
   "id": "8afff991",
   "metadata": {},
   "outputs": [],
   "source": [
    "condition = (df['국적']=='중국')\n",
    "df_filter = df[condition]\n",
    "df_filter.head()"
   ]
  },
  {
   "cell_type": "code",
   "execution_count": null,
   "id": "e5fd4a76",
   "metadata": {},
   "outputs": [],
   "source": [
    "df_pivot = df_filter.pivot_table(values='관광', index='년도', columns='월')\n",
    "df_pivot"
   ]
  },
  {
   "cell_type": "code",
   "execution_count": null,
   "id": "0f84b572",
   "metadata": {},
   "outputs": [],
   "source": [
    "import seaborn as sns"
   ]
  },
  {
   "cell_type": "code",
   "execution_count": null,
   "id": "c2ced7d8",
   "metadata": {},
   "outputs": [],
   "source": [
    "plt.figure(figsize=(16,10))\n",
    "sns.heatmap(df_pivot, annot=True, fmt='.0f', cmap='rocket_r')\n",
    "plt.title('중국 관광객 히트맵')\n",
    "plt.show"
   ]
  },
  {
   "cell_type": "code",
   "execution_count": null,
   "id": "531be23d",
   "metadata": {},
   "outputs": [],
   "source": [
    "cntry_list"
   ]
  },
  {
   "cell_type": "code",
   "execution_count": null,
   "id": "8620ab14",
   "metadata": {},
   "outputs": [],
   "source": [
    "for cntry in cntry_list:\n",
    "    condition = (df['국적']==cntry)\n",
    "    df_filter = df[condition]\n",
    "    df_pivot = df_filter.pivot_table(values='관광', index='년도', columns='월')\n",
    "    plt.figure(figsize=(16,10))\n",
    "    sns.heatmap(df_pivot, annot=True, fmt='.0f', cmap='rocket_r')\n",
    "    plt.title('{} 관광객 히트맵'.format(cntry))\n",
    "    plt.show"
   ]
  },
  {
   "cell_type": "code",
   "execution_count": null,
   "id": "abd0db72",
   "metadata": {},
   "outputs": [],
   "source": []
  }
 ],
 "metadata": {
  "kernelspec": {
   "display_name": "Python 3 (ipykernel)",
   "language": "python",
   "name": "python3"
  },
  "language_info": {
   "codemirror_mode": {
    "name": "ipython",
    "version": 3
   },
   "file_extension": ".py",
   "mimetype": "text/x-python",
   "name": "python",
   "nbconvert_exporter": "python",
   "pygments_lexer": "ipython3",
   "version": "3.8.16"
  }
 },
 "nbformat": 4,
 "nbformat_minor": 5
}
